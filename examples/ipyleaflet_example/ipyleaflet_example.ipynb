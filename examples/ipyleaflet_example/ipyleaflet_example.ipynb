{
 "cells": [
  {
   "cell_type": "code",
   "execution_count": null,
   "id": "0",
   "metadata": {},
   "outputs": [],
   "source": [
    "from geomorphproject1.ipyleaflet_map import CustomLeafletMap\n",
    "\n",
    "leaf_map = CustomLeafletMap(center=(35.96, -83.92), zoom=10)\n",
    "leaf_map.add_basemap(\"Esri.WorldImagery\")\n",
    "leaf_map.add_layer_control()\n",
    "leaf_map.add_vector(\"data/us_states.geojson\")\n",
    "leaf_map"
   ]
  }
 ],
 "metadata": {
  "kernelspec": {
   "display_name": "geo",
   "language": "python",
   "name": "python3"
  },
  "language_info": {
   "codemirror_mode": {
    "name": "ipython",
    "version": 3
   },
   "file_extension": ".py",
   "mimetype": "text/x-python",
   "name": "python",
   "nbconvert_exporter": "python",
   "pygments_lexer": "ipython3",
   "version": "3.12.9"
  }
 },
 "nbformat": 4,
 "nbformat_minor": 5
}
