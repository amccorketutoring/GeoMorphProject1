{
 "cells": [
  {
   "cell_type": "code",
   "execution_count": null,
   "id": "0",
   "metadata": {},
   "outputs": [],
   "source": [
    "from geomorphproject1.folium_map import CustomFoliumMap\n",
    "\n",
    "m = CustomFoliumMap(location=(35.96, -83.92), zoom_start=10)\n",
    "m.add_basemap(\"Esri.WorldTopoMap\")\n",
    "m.add_basemap(\"Stamen Toner\")  # Adding another tile layer\n",
    "m.add_layer_control()\n",
    "m.add_vector(\"data/us_states.geojson\")\n",
    "m.save(\"folium_map.html\")\n",
    "m"
   ]
  }
 ],
 "metadata": {
  "kernelspec": {
   "display_name": "geo",
   "language": "python",
   "name": "python3"
  },
  "language_info": {
   "codemirror_mode": {
    "name": "ipython",
    "version": 3
   },
   "file_extension": ".py",
   "mimetype": "text/x-python",
   "name": "python",
   "nbconvert_exporter": "python",
   "pygments_lexer": "ipython3",
   "version": "3.12.9"
  }
 },
 "nbformat": 4,
 "nbformat_minor": 5
}
